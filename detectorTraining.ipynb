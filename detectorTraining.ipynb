{
 "cells": [
  {
   "cell_type": "code",
   "execution_count": null,
   "metadata": {
    "execution": {
     "iopub.execute_input": "2023-02-19T11:48:33.786450Z",
     "iopub.status.busy": "2023-02-19T11:48:33.786252Z",
     "iopub.status.idle": "2023-02-19T11:48:34.076706Z",
     "shell.execute_reply": "2023-02-19T11:48:34.075922Z"
    }
   },
   "outputs": [],
   "source": [
    "from matplotlib import pyplot as plt\n",
    "import torch"
   ]
  },
  {
   "attachments": {},
   "cell_type": "markdown",
   "metadata": {},
   "source": [
    "Adapt to local vs cloud runtimes"
   ]
  },
  {
   "cell_type": "code",
   "execution_count": null,
   "metadata": {
    "execution": {
     "iopub.execute_input": "2023-02-19T11:48:34.080308Z",
     "iopub.status.busy": "2023-02-19T11:48:34.079834Z",
     "iopub.status.idle": "2023-02-19T11:48:34.085535Z",
     "shell.execute_reply": "2023-02-19T11:48:34.084808Z"
    }
   },
   "outputs": [],
   "source": [
    "try:\n",
    "    from google.colab import drive\n",
    "    google_drive_prefix = \"/content/drive\"\n",
    "    drive.mount(google_drive_prefix, force_remount=True)\n",
    "    data_prefix = google_drive_prefix + \"/My Drive/data/\"\n",
    "    results_prefix = google_drive_prefix + \"/My Drive/results/\"\n",
    "except ModuleNotFoundError: \n",
    "    data_prefix = \"./data/\"\n",
    "    results_prefix = \"./results/\""
   ]
  },
  {
   "attachments": {},
   "cell_type": "markdown",
   "metadata": {},
   "source": [
    "Check available cuda devices"
   ]
  },
  {
   "cell_type": "code",
   "execution_count": null,
   "metadata": {},
   "outputs": [],
   "source": [
    "if torch.cuda.is_available():\n",
    "    device = 'cuda'\n",
    "    #input_batch = input_batch.to('cuda')\n",
    "    #model.to('cuda') \n",
    "else:\n",
    "    device = 'cpu'\n",
    "print('Using '+ device)\n",
    "torch.device(device)\n",
    "print()"
   ]
  },
  {
   "cell_type": "code",
   "execution_count": null,
   "metadata": {
    "execution": {
     "iopub.execute_input": "2023-02-19T11:48:34.087815Z",
     "iopub.status.busy": "2023-02-19T11:48:34.087337Z",
     "iopub.status.idle": "2023-02-19T11:48:34.098311Z",
     "shell.execute_reply": "2023-02-19T11:48:34.097551Z"
    }
   },
   "outputs": [],
   "source": [
    "new = plt.imread(data_prefix+'test.png')"
   ]
  },
  {
   "cell_type": "code",
   "execution_count": null,
   "metadata": {
    "execution": {
     "iopub.execute_input": "2023-02-19T11:48:34.102565Z",
     "iopub.status.busy": "2023-02-19T11:48:34.102163Z",
     "iopub.status.idle": "2023-02-19T11:48:34.244335Z",
     "shell.execute_reply": "2023-02-19T11:48:34.243235Z"
    }
   },
   "outputs": [],
   "source": [
    "plt.imsave(results_prefix+'out.png', new)"
   ]
  },
  {
   "cell_type": "code",
   "execution_count": null,
   "metadata": {
    "execution": {
     "iopub.execute_input": "2023-02-19T11:48:34.246762Z",
     "iopub.status.busy": "2023-02-19T11:48:34.246527Z",
     "iopub.status.idle": "2023-02-19T11:48:34.251425Z",
     "shell.execute_reply": "2023-02-19T11:48:34.250583Z"
    }
   },
   "outputs": [],
   "source": [
    "print(\"Hello Now\")"
   ]
  }
 ],
 "metadata": {
  "kernelspec": {
   "display_name": "CudaVision",
   "language": "python",
   "name": "python3"
  },
  "language_info": {
   "codemirror_mode": {
    "name": "ipython",
    "version": 3
   },
   "file_extension": ".py",
   "mimetype": "text/x-python",
   "name": "python",
   "nbconvert_exporter": "python",
   "pygments_lexer": "ipython3",
   "version": "3.7.16"
  },
  "vscode": {
   "interpreter": {
    "hash": "83777c1a31b060f05f35990e21b03733109e98034ae363bc695f5c4ee1faa1c6"
   }
  }
 },
 "nbformat": 4,
 "nbformat_minor": 2
}
