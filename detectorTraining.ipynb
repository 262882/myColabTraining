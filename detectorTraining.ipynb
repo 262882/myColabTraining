{
 "cells": [
  {
   "cell_type": "code",
   "execution_count": null,
   "metadata": {},
   "outputs": [],
   "source": [
    "print(\"Hello\")"
   ]
  }
 ],
 "metadata": {
  "kernelspec": {
   "display_name": "vision",
   "language": "python",
   "name": "python3"
  },
  "language_info": {
   "name": "python",
   "version": "3.10.9"
  },
  "orig_nbformat": 4,
  "vscode": {
   "interpreter": {
    "hash": "a4b986bfb13cf6ea15b1106f98be71ca52373d5c20007f0ded200034ce5ceffb"
   }
  }
 },
 "nbformat": 4,
 "nbformat_minor": 2
}
